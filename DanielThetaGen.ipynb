{
 "cells": [
  {
   "cell_type": "code",
   "execution_count": null,
   "id": "1edcd3d5",
   "metadata": {},
   "outputs": [],
   "source": [
    "import matplotlib.pyplot as plt\n",
    "import numpy as np\n",
    "import math\n",
    "from scipy.interpolate import interp1d\n",
    "import numpy.random as npr\n",
    "\n",
    "def pdf(theta):\n",
    "    #Electron and Muon mass squared\n",
    "    e = 1.6e-19\n",
    "    mu2 = 105.658**2 #Mev\n",
    "    me2 = 0.5110**2 #Mev\n",
    "    s = 4*mu2 + 5000 #Mev point 9, center beam energy\n",
    "    alpha = (e**2)/(4*math.pi)\n",
    "\n",
    "    #constant to simplify calculation\n",
    "    ce = 1-(4*me2/s)\n",
    "    cu = 1-(4*mu2/s)\n",
    "    c1 = ((alpha**2)/(4*s)) * math.sqrt(cu) / math.sqrt(ce)\n",
    "    \n",
    "    #assuming me2 = 0\n",
    "    a = ((alpha**2)/(4*s)) * math.sqrt(cu) * (1+ (4*mu2/s))\n",
    "    b = ((alpha**2)/(4*s)) * cu\n",
    "    sigma = (4*math.pi/3) *(3*a + b)\n",
    "    return 2*math.pi*math.sin(theta)/sigma *(a + b*(math.cos(theta)**2))\n",
    "\n",
    "\n",
    "\n",
    "\n",
    "def thetaGen(howMany):    \n",
    "    thetas = []\n",
    "    count = 0\n",
    "    while count < howMany:\n",
    "        x = npr.uniform(0,math.pi)\n",
    "        y = npr.uniform(0,1)\n",
    "        if y < pdf(x): \n",
    "            thetas.append(x)\n",
    "            count += 1\n",
    "    return thetas\n",
    "newThetas = thetaGen(1000)\n",
    "\n",
    "plt.hist(newThetas)\n"
   ]
  }
 ],
 "metadata": {
  "kernelspec": {
   "display_name": "Python 3",
   "language": "python",
   "name": "python3"
  },
  "language_info": {
   "codemirror_mode": {
    "name": "ipython",
    "version": 3
   },
   "file_extension": ".py",
   "mimetype": "text/x-python",
   "name": "python",
   "nbconvert_exporter": "python",
   "pygments_lexer": "ipython3",
   "version": "3.8.8"
  }
 },
 "nbformat": 4,
 "nbformat_minor": 5
}
