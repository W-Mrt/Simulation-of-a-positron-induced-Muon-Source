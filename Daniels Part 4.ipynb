{
 "cells": [
  {
   "cell_type": "code",
   "execution_count": 11,
   "id": "078c4ceb",
   "metadata": {},
   "outputs": [],
   "source": [
    "import matplotlib.pyplot as plt\n",
    "import numpy as np\n",
    "import math\n",
    "from scipy.interpolate import interp1d\n",
    "import numpy.random as npr"
   ]
  },
  {
   "attachments": {
    "uniform.png": {
     "image/png": "[encoded data removed]"
    }
   },
   "cell_type": "markdown",
   "id": "867fe9b8",
   "metadata": {},
   "source": [
    "4. write a Monte Carlo simulation that generates scattering events following the distrubtions that you found analytically;\n",
    "\n",
    "The goal of this section is to sample muon ejection angles from a probability density function that matches the physics of the interaction. The PDF required is the normalised probability density function. The inverse transmorm method is then used to sample angles from this PDF. \n",
    "\n",
    "**Finding the Probability Density Function**\n",
    "\n",
    "The differential crossection equation is repeated below. It expresses probability that an event happens at each possible scattering angle $\\theta$ (**reference**).\n",
    "\n",
    "\\begin{equation}\n",
    "\\frac{d\\sigma}{d \\Omega} =\\frac{e^{4}}{64 \\pi^{2} s} \\frac{\\sqrt{1-\\frac{4 m_{\\mu}^{2}}{s}}}{\\sqrt{1-\\frac{4 m_{e}^{2}}{s}}}\\left(1+\\frac{4}{s}\\left(m_{e}^{2}+m_{\\mu}^{2}\\right)+\\left(1-\\frac{4 m_{e}^{2}}{s}\\right)\\left(1-\\frac{4 m_{\\mu}^{2}}{s}\\right) \\cos ^{2} \\theta\\right) \n",
    "\\end{equation}\n",
    "\n",
    "The differential cross section can be simplified as,\n",
    "\n",
    "$$\\frac{d\\sigma}{d \\Omega} = a + b~cos^2(\\theta)$$\n",
    "\n",
    "where,\n",
    "\n",
    "$$a = \\frac{e^{4}}{64 \\pi^{2} s} \\frac{\\sqrt{1-\\frac{4 m_{\\mu}^{2}}{s}}}{\\sqrt{1-\\frac{4 m_{e}^{2}}{s}}}\\left[1+\\frac{4}{s}(m_e^2+m_\\mu^2)\\right]$$\n",
    "\n",
    "$$b = \\frac{e^{4}}{64 \\pi^{2} s} \\frac{\\sqrt{1-\\frac{4 m_{\\mu}^{2}}{s}}}{\\sqrt{1-\\frac{4 m_{e}^{2}}{s}}}\\left[\\left(1-\\frac{4m_\\mu^2}{s}\\right)\\left(1-\\frac{4m_e^2}{s}\\right)\\right].$$\n",
    "\n",
    "The differential cross section can be used as a PDF to sample the random numbers if we normalise it using the total cross section. The integral of a PDF over it's entire range should equal one. The integral of the differential cross section over it's entire range equals the total crossection. Therfore if we divide through by the total cross section we get a normalised PDF.\n",
    "\n",
    "$$\\int^{4\\pi~sr}_{0}\\frac{d\\sigma}{d \\Omega} d\\Omega = \\sigma $$\n",
    "\n",
    "$$\\int^{4\\pi~sr}_{0}\\frac{1}{\\sigma}\\frac{d\\sigma}{d \\Omega} d\\Omega = 1 $$\n",
    "\n",
    "The probability density function of ejected muons having a solid angle $\\Omega$ is then,\n",
    "\n",
    "$$\\mathbb{P}(\\Omega) = \\frac{1}{\\sigma}\\frac{d\\sigma}{d \\Omega}$$\n",
    "\n",
    "To find the probability density function in terms of theta we can integrate over phi.\n",
    "\n",
    "$$\\mathbb{P}(\\Omega) = \\int^{2\\pi}_{0} \\frac{1}{\\sigma}\\frac{d\\sigma}{d \\Omega} \\sin\\theta~d\\phi$$\n",
    "\n",
    "$$\\mathbb{P}(\\theta) = \\frac{2\\pi\\sin\\theta}{\\sigma}\\frac{d\\sigma}{d \\Omega}$$\n",
    " \n",
    "The aim is to sample random numbers (ejection angles, $\\theta$) from this probability density function.\n",
    "\n",
    "**Inverse Transform Sampling**\n",
    "\n",
    "The sampling method used is known as Inverse Transmorm Sampling. The goal of this method is to take a random number generated from the uniform probability density function $U$ and pass it into a function, $F(U)$, that returns a sample of our generated dataset $X$. In this case our generated dataset is made of ejection angles. \n",
    "\n",
    "$$F(U) = X$$\n",
    "\n",
    "\n",
    "This function we seek can be shown to be the inverse of the cumulitive density function, CDF, of our probability density function. The CDF is the probability of sampling an event with a value less than $x$.\n",
    "\n",
    "To prove $CDF^{-1}(U)$ is indeed the function $F(U)$ we use probability notation. \n",
    "\n",
    "The CDF is defined as,\n",
    "\n",
    "$$CDF(x) = \\mathbb{P}(X\\leq~x).$$ \n",
    "\n",
    "If we sub in $F(U) = X$ from before then we get,\n",
    "\n",
    "$$CDF(x) = \\mathbb{P}(F(U)\\leq~x).$$ \n",
    "\n",
    "If we apply the inverse function $F^{-1}(U)$ to both sides of the inequality then we arrive at,\n",
    "\n",
    "$$CDF(x) = \\mathbb{P}(U \\leq~F^{-1}(x)).$$ \n",
    "\n",
    "This expresses the probability that a value sampled from the uniform distrubution is less than $F^-1(x).$ The uniform distribution is such that the probability of sampling less than a vaue is equal to that value. As can be seen in the uniform distribution below. The probability of sampling an $U < 0.8$ is the area of the blue section before the red line. This is 0.8 of the total area. Therfore $\\mathbb{P}(U < 0.8) = 0.8$ and more generally $\\mathbb{P}(U < u) = u$.\n",
    "\n",
    "![uniform.png](attachment:uniform.png)\n",
    "\n",
    "This argument show's that, \n",
    "\n",
    "$$CDF(x) = \\mathbb{P}(U\\leq~F^{-1}(x)) = F^{-1}(x).$$ \n",
    "\n",
    "$$CDF(x) = F^{-1}(x).$$\n",
    "\n",
    "These functions are the inverse of eachother. This means that, $F(x) = CDF{^-1}(x)$. This is true for any value of x. We can sub in the sample from our uniform distribution U and we get. \n",
    "\n",
    "$$F(U) = CDF^{-1}(U)$$\n",
    "\n",
    "$F(U)$ was origionaly defined as a function that will produce our desired dataset X when U is a uniformly distributed random number from 0 to 1. It has now been shown that the inverse of the CDF meets these requirements. Therefore the inverse CDF can be used to sample angles from the normalised differential cross section.\n",
    "\n",
    "**Finding the Inverse CDF**\n",
    "\n",
    "The PDF for the muon ejection angle that matches the physics of the interaction is, \n",
    "\n",
    "$$\\mathbb{P}(\\theta) = \\frac{2\\pi\\sin\\theta}{\\sigma}\\frac{d\\sigma}{d \\Omega}$$\n",
    "\n",
    "The CDF is defined as the integral, \n",
    "\n",
    "$$CDF(\\theta) = \\int^{\\theta}_{0}\\frac{2\\pi\\sin\\theta}{\\sigma}\\frac{d\\sigma}{d \\Omega}~d\\theta = \\int^{\\theta}_{0}\\frac{2\\pi\\sin\\theta}{\\sigma}[a + b~cos^2(\\theta)]~d\\theta = \\frac{2\\pi}{\\sigma}\\left[-\\frac{\\cos\\theta}{3}(3a+b~\\cos^2\\theta)\\right].$$ \n",
    "\n",
    "The inverse of this function cannot be found analyticaly. Instead a look up tabel is generated. For many $\\theta$ values the value of CDF is calculated and the two values are associated with eachother. The inverse function of finding the CDF from a particular $\\theta$ can then be found by looking for the value in the tabel. There is an issue if we want to know the CDF for a theta value we have not calculated. In this case we use linear iterpolation. This simply means we assume the path between two calculated vaues is linear so we can guess any value inbetween. \n",
    "\n",
    "SciPy has a function for interpolation called interpl1d and this will be used to create our approximate inverse function."
   ]
  },
  {
   "cell_type": "code",
   "execution_count": 4,
   "id": "0a8fa368",
   "metadata": {},
   "outputs": [
    {
     "data": {
      "text/plain": [
       "Text(0.5, 1.0, 'Generated Muon Angular Distribution')"
      ]
     },
     "execution_count": 4,
     "metadata": {},
     "output_type": "execute_result"
    },
    {
     "data": {
      "image/png": "[encoded data removed]",
      "text/plain": [
       "<Figure size 432x288 with 1 Axes>"
      ]
     },
     "metadata": {
      "needs_background": "light"
     },
     "output_type": "display_data"
    },
    {
     "data": {
      "image/png": "[encoded data removed]",
      "text/plain": [
       "<Figure size 432x288 with 1 Axes>"
      ]
     },
     "metadata": {
      "needs_background": "light"
     },
     "output_type": "display_data"
    },
    {
     "data": {
      "image/png": "[encoded data removed]",
      "text/plain": [
       "<Figure size 432x288 with 1 Axes>"
      ]
     },
     "metadata": {
      "needs_background": "light"
     },
     "output_type": "display_data"
    }
   ],
   "source": [
    "#The functions use eachother and the constants. It is advisable to paste the whole cell into your code, or save it as .py and import it in. \n",
    "\n",
    "import matplotlib.pyplot as plt\n",
    "import numpy as np\n",
    "import math\n",
    "from scipy.interpolate import interp1d\n",
    "import numpy.random as npr\n",
    "import axispi as axp\n",
    "\n",
    "#conversion factor\n",
    "#con1 = 2.56819e-3 #MeV−2,  (DCS MeV-2)/con1 = DCS barns\n",
    "#----------constants-------------\n",
    "e = 1.6e-19\n",
    "#Electron and Muon mass squared\n",
    "mu2 = 105.658**2 #Mev^2\n",
    "me2 = 0.5110**2 #Mev^2\n",
    "S = 4*mu2 + 5000 #5000MeV^2 over threshold energy\n",
    "#---------------------------------\n",
    "\n",
    "def ab(s):\n",
    "    #more constants to simplify calculation\n",
    "    ce = 1-(4*me2/s)\n",
    "    cu = 1-(4*mu2/s)\n",
    "    c1 = e**4/(64 * math.pi**2 * s)\n",
    "    c2 = c1 * cu**(1/2) * ce**(-1/2)\n",
    "\n",
    "    a = c2 * (1+(4/s)*(me2+mu2))\n",
    "    b = c2 * (1-(4*mu2/s)) * (1-(4*me2/s))\n",
    "    return a, b\n",
    "\n",
    "#differential cross section\n",
    "def dcs(theta,s):#theta - ejection angle #s - CoM energy squared\n",
    "    a,b = ab(s)\n",
    "    return a+b*math.cos(theta)**2\n",
    "\n",
    "#total cross section\n",
    "def sigma(s):#s - CoM energy squared\n",
    "    a,b = ab(s)\n",
    "    return (4*math.pi/3)*(3*a + b)\n",
    "\n",
    "#############################################################################\n",
    "\n",
    "#probability density function, PDF of ejection angles\n",
    "def pdf(theta,s):#theta - ejection angle #s - CoM energy squared\n",
    "    a,b = ab(s)\n",
    "    sig = sigma(s)\n",
    "    DCS = dcs(theta,s)\n",
    "    return (2*math.pi*math.sin(theta)/sig)*DCS\n",
    "\n",
    "#Cumulitive Density Function. Probability a THETA sampled is less than theta in the function.\n",
    "def cdf(theta,s):\n",
    "    a,b = ab(s)\n",
    "    sig = sigma(s)\n",
    "    return (2*math.pi/sig)*((-math.cos(theta)*(3*a+b*math.cos(theta)**2)*1/3)+ a)\n",
    "\n",
    "#Theta Generation, Sampling from the PDF, Using Inverse CDF Method\n",
    "def thetaGen2(howMany,s):#howMany - the number of thetas to generate\n",
    "    #generate the lookup table for the inverse function\n",
    "    theta = np.linspace(0,math.pi,100)\n",
    "    CDF = [cdf(x,s) for x in theta]\n",
    "    PDF = [pdf(x,s) for x in theta]\n",
    "    #thetaPredictor is the inverse CDF brought about using a look up table (theta,CDF) and interpolation\n",
    "    thetaPredictor = interp1d(CDF, theta, kind = \"linear\")\n",
    "    return [float(thetaPredictor(x)) for x in npr.uniform(min(CDF),max(CDF),howMany)]\n",
    "\n",
    "theta = np.linspace(0,math.pi,100)\n",
    "PDF = [pdf(x,S) for x in theta]\n",
    "CDF = [cdf(x,S) for x in theta]\n",
    "\n",
    "figPDF = plt.figure()\n",
    "plt.plot(theta,PDF)\n",
    "plt.title('Probability Density Function')\n",
    "\n",
    "figCDF = plt.figure()\n",
    "plt.plot(theta,CDF)\n",
    "plt.title('Cumulative Density Function')\n",
    "\n",
    "figThetaGen = plt.figure()\n",
    "plt.hist(thetaGen2(1000,S))\n",
    "plt.title('Generated Muon Angular Distribution')"
   ]
  },
  {
   "cell_type": "code",
   "execution_count": 24,
   "id": "2a11e89b",
   "metadata": {},
   "outputs": [
    {
     "data": {
      "text/plain": [
       "<matplotlib.lines.Line2D at 0x7fb49f094670>"
      ]
     },
     "execution_count": 24,
     "metadata": {},
     "output_type": "execute_result"
    },
    {
     "data": {
      "image/png": "[encoded data removed]",
      "text/plain": [
       "<Figure size 432x288 with 1 Axes>"
      ]
     },
     "metadata": {
      "needs_background": "light"
     },
     "output_type": "display_data"
    }
   ],
   "source": [
    "figuniform = plt.figure()\n",
    "plt.bar(0.5,1, width = 1)\n",
    "plt.title('Uniform PDF')\n",
    "plt.axvline(x = 0.8,color = 'r')"
   ]
  },
  {
   "cell_type": "markdown",
   "id": "1ba4a583",
   "metadata": {},
   "source": [
    "The differential cross section is a PDF of the form,\n",
    "\n",
    ">$a + b cos^2(\\theta^*)$$~~~~~~~~~~~~~~~~~~~$*(1.0)*\n",
    "\n",
    "where a and b are as defined above.\n",
    "\n",
    "The $CDF(\\theta^*)$ is defined as, $$CDF(\\theta^*) = \\int^{\\theta^*}_{0}a + b cos^2(\\theta^*)\\,dx,$$\n",
    "\n",
    "$$\\int^{\\theta^*}_{0}a + b cos^2(\\theta^*)\\,dx, => $$\n"
   ]
  },
  {
   "cell_type": "code",
   "execution_count": 131,
   "id": "ec4b3d48",
   "metadata": {},
   "outputs": [
    {
     "name": "stdout",
     "output_type": "stream",
     "text": [
      "ab 0.49131750885661296\n",
      "[0.         0.34906585 0.6981317  1.04719755 1.3962634  1.74532925\n",
      " 2.0943951  2.44346095 2.7925268  3.14159265]\n",
      "[-0.008682491143387075, 0.022425605285105295, 0.11104339221325268, 0.24457344303538303, 0.4059556561072357, 0.5766793616059901, 0.7380615746778428, 0.8715916254999734, 0.9602094124281206, 0.9913175088566131]\n",
      "rand [0.30767295 0.29274148 0.81268184 0.23475478 0.65062517 0.06923877\n",
      " 0.55170788 0.01910819 0.27904575 0.64718176]\n",
      "a 0.7020561858675468\n",
      "a 2.687727502116333\n",
      "a 2.4372172189575014\n",
      "a 1.6793923254962526\n",
      "a 1.5576937118147058\n",
      "a 1.7802478228732677\n",
      "a 0.1936924106578067\n",
      "a 1.1032124315705607\n",
      "a 1.8771348415948452\n",
      "a 1.4297861359304498\n"
     ]
    },
    {
     "data": {
      "text/plain": [
       "(array([ 296.,  720., 1101., 1411., 1527., 1519., 1385., 1052.,  717.,\n",
       "         272.]),\n",
       " array([5.80544876e-04, 3.14655166e-01, 6.28729787e-01, 9.42804408e-01,\n",
       "        1.25687903e+00, 1.57095365e+00, 1.88502827e+00, 2.19910289e+00,\n",
       "        2.51317751e+00, 2.82725214e+00, 3.14132676e+00]),\n",
       " <BarContainer object of 10 artists>)"
      ]
     },
     "execution_count": 131,
     "metadata": {},
     "output_type": "execute_result"
    },
    {
     "data": {
      "image/png": "[encoded data removed]",
      "text/plain": [
       "<Figure size 432x288 with 1 Axes>"
      ]
     },
     "metadata": {
      "needs_background": "light"
     },
     "output_type": "display_data"
    },
    {
     "data": {
      "image/png": "[encoded data removed]",
      "text/plain": [
       "<Figure size 432x288 with 1 Axes>"
      ]
     },
     "metadata": {
      "needs_background": "light"
     },
     "output_type": "display_data"
    },
    {
     "data": {
      "image/png": "[encoded data removed]",
      "text/plain": [
       "<Figure size 432x288 with 1 Axes>"
      ]
     },
     "metadata": {
      "needs_background": "light"
     },
     "output_type": "display_data"
    }
   ],
   "source": [
    "def pdf(theta):\n",
    "    #Electron and Muon mass squared\n",
    "    e = 1.6e-19\n",
    "    mu2 = 105.658**2 #Mev\n",
    "    me2 = 0.5110**2 #Mev\n",
    "    s = 4*mu2 + 5000 #Mev point 9, center beam energy\n",
    "    alpha = (e**2)/(4*math.pi)\n",
    "\n",
    "    #constant to simplify calculation\n",
    "    ce = 1-(4*me2/s)\n",
    "    cu = 1-(4*mu2/s)\n",
    "    c1 = ((alpha**2)/(4*s)) * math.sqrt(cu) / math.sqrt(ce)\n",
    "    \n",
    "    #assuming me2 = 0\n",
    "    #a = ((alpha**2)/(4*s)) * math.sqrt(cu) * (1+ (4*mu2/s))\n",
    "    #b = ((alpha**2)/(4*s)) * cu\n",
    "    a = c1 * (1+(4/s)*(me2+mu2))\n",
    "    b = c1 * (1-(4*mu2/s)) * (1-(4*me2/s))\n",
    "    sigma = (4*math.pi/3) *(3*a + b)\n",
    "    return 2*math.pi*math.sin(theta)/sigma *(a + b*(math.cos(theta)**2))\n",
    "\n",
    "def cdf(theta):\n",
    "    #Electron and Muon mass squared\n",
    "    e = 1.6e-19\n",
    "    mu2 = 105.658**2 #Mev\n",
    "    me2 = 0.5110**2 #Mev\n",
    "    s = 4*mu2 + 5000 #Mev point 9, center beam energy\n",
    "    alpha = (e**2)/(4*math.pi)\n",
    "\n",
    "    #constant to simplify calculation\n",
    "    ce = 1-(4*me2/s)\n",
    "    cu = 1-(4*mu2/s)\n",
    "    c1 = ((alpha**2)/(4*s)) * math.sqrt(cu) / math.sqrt(ce)\n",
    "    \n",
    "    a = c1 * (1+(4/s)*(me2+mu2))\n",
    "    b = c1 * (1-(4*mu2/s)) * (1-(4*me2/s))\n",
    "    sigma = (4*math.pi/3) *(3*a + b)\n",
    "    return (2*math.pi/sigma)*((-math.cos(theta)*(3*a+b*math.cos(theta)**2)*1/3)+ a)\n",
    "\n",
    "def thetaGen2(howMany): \n",
    "    theta = np.linspace(0,math.pi,10)\n",
    "    CDF = [cdf(x) for x in theta]\n",
    "    PDF = [pdf(x) for x in theta]\n",
    "    #thetaPredictor is the inverse CDF brought about using a look up table (theta,CDF) and interpolation\n",
    "    thetaPredictor = interp1d(CDF, theta, kind = \"linear\")\n",
    "    return thetaPredicted = [float(thetaPredictor(x)) for x in npr.uniform(min(CDF),max(CDF),howMany)]\n",
    "\n",
    "#plots\n",
    "figcdf = plt.figure()\n",
    "plt.plot(theta,CDF)\n",
    "plt.title('CDF')\n",
    "figpdf = plt.figure()\n",
    "plt.plot(theta,PDF)\n",
    "plt.title('PDF')\n",
    "figThetaPred = plt.figure()\n",
    "plt.hist(thetaPredicted)\n",
    "\n",
    "\n",
    "\n"
   ]
  },
  {
   "cell_type": "code",
   "execution_count": 23,
   "id": "82c62b33",
   "metadata": {},
   "outputs": [
    {
     "data": {
      "text/plain": [
       "<matplotlib.lines.Line2D at 0x7fb49f0b6d30>"
      ]
     },
     "execution_count": 23,
     "metadata": {},
     "output_type": "execute_result"
    },
    {
     "data": {
      "image/png": "[encoded data removed]",
      "text/plain": [
       "<Figure size 432x288 with 1 Axes>"
      ]
     },
     "metadata": {
      "needs_background": "light"
     },
     "output_type": "display_data"
    }
   ],
   "source": [
    "figuniform = plt.figure()\n",
    "plt.bar(0.5,1, width = 1)\n",
    "plt.title('Uniform PDF')\n",
    "plt.axvline(x = 0.8,color = 'r')\n"
   ]
  },
  {
   "cell_type": "code",
   "execution_count": 101,
   "id": "e4eec4a5",
   "metadata": {},
   "outputs": [
    {
     "data": {
      "text/plain": [
       "(array([ 38.,  83.,  98., 123., 156., 143., 148., 102.,  78.,  31.]),\n",
       " array([0.0485444 , 0.34916556, 0.64978671, 0.95040787, 1.25102902,\n",
       "        1.55165017, 1.85227133, 2.15289248, 2.45351363, 2.75413479,\n",
       "        3.05475594]),\n",
       " <BarContainer object of 10 artists>)"
      ]
     },
     "execution_count": 101,
     "metadata": {},
     "output_type": "execute_result"
    },
    {
     "data": {
      "image/png": "[encoded data removed]",
      "text/plain": [
       "<Figure size 432x288 with 1 Axes>"
      ]
     },
     "metadata": {
      "needs_background": "light"
     },
     "output_type": "display_data"
    }
   ],
   "source": [
    "def pdf(theta):\n",
    "    #Electron and Muon mass squared\n",
    "    e = 1.6e-19\n",
    "    mu2 = 105.658**2 #Mev\n",
    "    me2 = 0.5110**2 #Mev\n",
    "    s = 4*mu2 + 5000 #Mev point 9, center beam energy\n",
    "    alpha = (e**2)/(4*math.pi)\n",
    "\n",
    "    #constant to simplify calculation\n",
    "    ce = 1-(4*me2/s)\n",
    "    cu = 1-(4*mu2/s)\n",
    "    c1 = ((alpha**2)/(4*s)) * math.sqrt(cu) / math.sqrt(ce)\n",
    "    \n",
    "    #assuming me2 = 0\n",
    "    #a = ((alpha**2)/(4*s)) * math.sqrt(cu) * (1+ (4*mu2/s))\n",
    "    #b = ((alpha**2)/(4*s)) * cu\n",
    "    a = c1 * (1+(4/s)*(me2+mu2))\n",
    "    b = c1 * (1-(4*mu2/s)) * (1-(4*me2/s))\n",
    "    sigma = (4*math.pi/3) *(3*a + b)\n",
    "    return 2*math.pi*math.sin(theta)/sigma *(a + b*(math.cos(theta)**2))\n",
    "\n",
    "def thetaGen(howMany):    \n",
    "    thetas = []\n",
    "    count = 0\n",
    "    while count < howMany:\n",
    "        potential = npr.uniform(0,math.pi)\n",
    "        y = npr.uniform(0,1)\n",
    "        if y < pdf(potential): \n",
    "            thetas.append(potential)\n",
    "            count += 1\n",
    "    return thetas\n",
    "\n",
    "newThetas = thetaGen(1000)\n",
    "\n",
    "plt.hist(newThetas)\n",
    "\n",
    "\n"
   ]
  },
  {
   "cell_type": "code",
   "execution_count": null,
   "id": "e3f1a1f8",
   "metadata": {},
   "outputs": [],
   "source": [
    "https://link.springer.com/article/10.1134/S0015462821070053<br>\n",
    "Kazakov, L.I. Laminar Flow of a Viscous Liquid in the Entrance Region of a Circular Pipe. Fluid Dyn 56, 954–966 (2021). https://doi.org/10.1134/S0015462821070053\n",
    "\n",
    "fluid flow in a pipe\n",
    "\n",
    "$R$ = pipe radious or beam radious<br>\n",
    "$V_{0}$ = Velocity at the center of the pipe or beam<br>\n",
    "$V(r)$ = the velocity of the pipe or beam at radious r\n",
    "\n",
    "$$V(r) = V_{0}\\left(1-\\frac{r^2}{R^2}\\right)$$"
   ]
  }
 ],
 "metadata": {
  "kernelspec": {
   "display_name": "Python 3",
   "language": "python",
   "name": "python3"
  },
  "language_info": {
   "codemirror_mode": {
    "name": "ipython",
    "version": 3
   },
   "file_extension": ".py",
   "mimetype": "text/x-python",
   "name": "python",
   "nbconvert_exporter": "python",
   "pygments_lexer": "ipython3",
   "version": "3.8.8"
  }
 },
 "nbformat": 4,
 "nbformat_minor": 5
}
