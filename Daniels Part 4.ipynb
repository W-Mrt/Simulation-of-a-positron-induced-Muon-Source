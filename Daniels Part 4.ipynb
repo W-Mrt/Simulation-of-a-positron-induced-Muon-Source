{
 "cells": [
  {
   "cell_type": "code",
   "execution_count": 9,
   "id": "078c4ceb",
   "metadata": {},
   "outputs": [],
   "source": [
    "import matplotlib.pyplot as plt\n",
    "import numpy as np\n",
    "import math"
   ]
  },
  {
   "cell_type": "markdown",
   "id": "57d99e32",
   "metadata": {},
   "source": [
    "https://link.springer.com/article/10.1134/S0015462821070053<br>\n",
    "Kazakov, L.I. Laminar Flow of a Viscous Liquid in the Entrance Region of a Circular Pipe. Fluid Dyn 56, 954–966 (2021). https://doi.org/10.1134/S0015462821070053\n",
    "\n",
    "fluid flow in a pipe\n",
    "\n",
    "$R$ = pipe radious or beam radious<br>\n",
    "$V_{0}$ = Velocity at the center of the pipe or beam<br>\n",
    "$V(r)$ = the velocity of the pipe or beam at radious r\n",
    "\n",
    "$$V(r) = V_{0}\\left(1-\\frac{r^2}{R^2}\\right)$$"
   ]
  },
  {
   "cell_type": "markdown",
   "id": "867fe9b8",
   "metadata": {},
   "source": [
    "4. write a Monte Carlo simulation that generates scattering events following the distrubtions that you found analytically;\n",
    "\n",
    "$$\\left(\\frac{d\\sigma}{d\\Omega}\\right)^* \\Big\\rvert_{CoM} \\left(\\sqrt s, \\theta^*, \\phi^*\\right)= \\frac{\\alpha^2}{4s}\\left(1-\\frac{4m_\\mu^2}{s}\\right)^{1/2}\\left(1-\\frac{4m_e^2}{s}\\right)^{-1/2}\\left[1+\\frac{4}{s}\\left(m_e^2+m_\\mu^2\\right)+\\left(1-\\frac{4m_\\mu^2}{s}\\right)\\left(1-\\frac{4m_e^2}{s}\\right)\\cos^2\\theta^*\\right]$$\n",
    "\n",
    "This is the differential crossection equation. It expresses probability that an event happens at each possible scattering angle $\\theta^*$. The * signifies that the variable $\\theta$ is it's value in the center of mass frame.\n",
    "\n",
    "The differential cross section can be expressed as\n",
    "\n",
    ">$a + b cos^2(\\theta^*)$$~~~~~~~~~~~~~~~~~~~$*(1.0)*\n",
    "\n",
    "where,\n",
    "\n",
    "$$a = \\frac{\\alpha^2}{4s}\\left(1-\\frac{4m_\\mu^2}{s}\\right)^{1/2}\\left(1-\\frac{4m_e^2}{s}\\right)^{-1/2}\\left[1+\\frac{4}{s}(m_e^2+m_\\mu^2)\\right]$$\n",
    "\n",
    "$$b = \\frac{\\alpha^2}{4s}\\left(1-\\frac{4m_\\mu^2}{s}\\right)^{1/2}\\left(1-\\frac{4m_e^2}{s}\\right)^{-1/2}\\left[\\left(1-\\frac{4m_\\mu^2}{s}\\right)\\left(1-\\frac{4m_e^2}{s}\\right)\\right]$$\n",
    "\n",
    "The goal of this section is to generate a random distribution of scattering angles electron positron to muon pair events that follows the differntial cross section. \n",
    "\n",
    "Another way to say the same thing is that we aim to sample random numbers (angles) from the probability density function that is the differential cross section.\n",
    "\n",
    "The sampling method used is known as Inverse Transmorm Sampeling. The goal of this method is to take a random number generated from the uniform probability density function $U$ and pass it into a function, $F(U)$, that returns a sample of our generated dataset $X$. i.e. the randomly generated angles. \n",
    "\n",
    "> $F(U) = X$$~~~~~~~~~~~~~~~~~~~$*(1.0)*\n",
    "\n",
    "\n",
    "This function we seek can be shown to be the inverse of the cumulitive density function of our probability density function. The cululitive density function $CDF(x)$ is the probability of sampling an event with a value less than $x$.\n",
    "\n",
    "To prove $CDF^-1(U)$ is indeed the function $F(U)$ we use probability notation. \n",
    "\n",
    "The CDF is defined as,$CDF(x) = \\mathbb{P}(X<=x)$. If we sub in equation # then we get $\\mathbb{P}(F(U)<=x)$. If we apply the inverse function $F^-1(U)$ to both sides of the inequality then we arrive at, $\\mathbb{P}(U<=F^{-1}(x))$. The probability that a value sampled from the uniform distrubution is less than $F^-1(x)$. The uniform distribution is so that the probability of a vaule sampled less than a vaue is equal to that value. As can be seen in the uniform distribution below. The probability of sampling an $X < 0.8$ is the area of the blue section before the red line and this is 0.8 of the total area.\n",
    "\n",
    "Thus $\\mathbb{P}(U<=F^{-1}(x)) = F^{-1}(x)$ and so $CDF(x) = F^{-1}(x)$. These functions are the inverse of eachother. This means that $F(x)$ = $CDF^-1(x)$. This is true for any value of x. We can sub in the sample from our uniform distribution U and we get. \n",
    "\n",
    "> $F(U) = CDF^{-1}(U)$$~~~~~~~~~~~~~~~~~~~$*(2.0)*\n",
    "\n",
    "We have now proved that the inverse of the CDF for a PDF is a function that will generate a sample from the PDF.\n",
    "\n"
   ]
  },
  {
   "cell_type": "code",
   "execution_count": 24,
   "id": "2a11e89b",
   "metadata": {},
   "outputs": [
    {
     "data": {
      "text/plain": [
       "<matplotlib.lines.Line2D at 0x7fb49f094670>"
      ]
     },
     "execution_count": 24,
     "metadata": {},
     "output_type": "execute_result"
    },
    {
     "data": {
      "image/png": "[encoded data removed]",
      "text/plain": [
       "<Figure size 432x288 with 1 Axes>"
      ]
     },
     "metadata": {
      "needs_background": "light"
     },
     "output_type": "display_data"
    }
   ],
   "source": [
    "figuniform = plt.figure()\n",
    "plt.bar(0.5,1, width = 1)\n",
    "plt.title('Uniform PDF')\n",
    "plt.axvline(x = 0.8,color = 'r')"
   ]
  },
  {
   "cell_type": "markdown",
   "id": "1ba4a583",
   "metadata": {},
   "source": [
    "The differential cross section is a PDF of the form,\n",
    "\n",
    ">$a + b cos^2(\\theta^*)$$~~~~~~~~~~~~~~~~~~~$*(1.0)*\n",
    "\n",
    "where a and b are as defined above.\n",
    "\n",
    "The $CDF(\\theta^*)$ is defined as, $$CDF(\\theta^*) = \\int^{\\theta^*}_{0}a + b cos^2(\\theta^*)\\,dx,$$\n",
    "\n",
    "$$\\int^{\\theta^*}_{0}a + b cos^2(\\theta^*)\\,dx, => $$\n"
   ]
  },
  {
   "cell_type": "code",
   "execution_count": 41,
   "id": "ec4b3d48",
   "metadata": {},
   "outputs": [
    {
     "data": {
      "text/plain": [
       "<matplotlib.collections.PathCollection at 0x7fb49ec44d60>"
      ]
     },
     "execution_count": 41,
     "metadata": {},
     "output_type": "execute_result"
    },
    {
     "data": {
      "image/png": "[encoded data removed]",
      "text/plain": [
       "<Figure size 432x288 with 1 Axes>"
      ]
     },
     "metadata": {
      "needs_background": "light"
     },
     "output_type": "display_data"
    }
   ],
   "source": [
    "def dsc(theta,r):\n",
    "    #Electron and Muon mass squared\n",
    "    R = 1 #beam radious\n",
    "    mu2 = 105.658**2 #Mev\n",
    "    me2 = 0.5110**2 #Mev\n",
    "    s0 = 4*mu2 + 1000 #Mev point 9, center beam energy\n",
    "    s = s0*(1-r**2/R**2)#equation for partile beam energy as a function of radious based on fluid flow in a pipe.\n",
    "    alpha = (math.e**2)/(4*math.pi)\n",
    "\n",
    "    #constant to simplify calculation\n",
    "    c1 = ((alpha**2)/(4*s)) * (1-(4*mu2/s))**(1/2) * (1-(4*me2/s))**(-1/2)\n",
    "\n",
    "    a = c1 * (1+(4/s)*(me2+mu2))\n",
    "    b = c1 * (1-(4*mu2/s)) * (1-(4*me2/s))\n",
    "    return a + b*math.cos(theta)**2\n",
    "\n",
    "def cdf(theta,r):\n",
    "    #Electron and Muon mass squared\n",
    "    R = 1 #beam radious\n",
    "    mu2 = 105.658**2 #Mev\n",
    "    me2 = 0.5110**2 #Mev\n",
    "    s0 = 4*mu2 + 5000 #Mev point 9, center beam energy\n",
    "    s = s0#220#s0*(1-r**2/R**2)#equation for partile beam energy as a function of radious based on fluid flow in a pipe.\n",
    "    alpha = (math.e**2)/(4*math.pi)\n",
    "\n",
    "    #constant to simplify calculation\n",
    "    c1 = ((alpha**2)/(4*s)) * (1-(4*mu2/s))**(1/2) * (1-(4*me2/s))**(-1/2)\n",
    "\n",
    "    a = c1 * (1+(4/s)*(me2+mu2))\n",
    "    b = c1 * (1-(4*mu2/s)) * (1-(4*me2/s))\n",
    "    \n",
    "    return a*theta + ((b*theta)/2) + (b*math.sin(theta)*math.cos(theta)/2)\n",
    "\n",
    "\n",
    "theta = np.linspace(0,math.pi,1000)\n",
    "CDF = [cdf(x,0) for x in theta]\n",
    "\n",
    "plt.plot(theta,CDF)\n",
    "\n",
    "\n",
    "\n",
    "\n"
   ]
  },
  {
   "cell_type": "code",
   "execution_count": 23,
   "id": "82c62b33",
   "metadata": {},
   "outputs": [
    {
     "data": {
      "text/plain": [
       "<matplotlib.lines.Line2D at 0x7fb49f0b6d30>"
      ]
     },
     "execution_count": 23,
     "metadata": {},
     "output_type": "execute_result"
    },
    {
     "data": {
      "image/png": "[encoded data removed]",
      "text/plain": [
       "<Figure size 432x288 with 1 Axes>"
      ]
     },
     "metadata": {
      "needs_background": "light"
     },
     "output_type": "display_data"
    }
   ],
   "source": [
    "figuniform = plt.figure()\n",
    "plt.bar(0.5,1, width = 1)\n",
    "plt.title('Uniform PDF')\n",
    "plt.axvline(x = 0.8,color = 'r')\n"
   ]
  },
  {
   "cell_type": "code",
   "execution_count": null,
   "id": "e4eec4a5",
   "metadata": {},
   "outputs": [],
   "source": []
  }
 ],
 "metadata": {
  "kernelspec": {
   "display_name": "Python 3",
   "language": "python",
   "name": "python3"
  },
  "language_info": {
   "codemirror_mode": {
    "name": "ipython",
    "version": 3
   },
   "file_extension": ".py",
   "mimetype": "text/x-python",
   "name": "python",
   "nbconvert_exporter": "python",
   "pygments_lexer": "ipython3",
   "version": "3.8.8"
  }
 },
 "nbformat": 4,
 "nbformat_minor": 5
}
