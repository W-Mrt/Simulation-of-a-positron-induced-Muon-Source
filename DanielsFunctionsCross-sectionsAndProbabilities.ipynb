{
 "cells": [
  {
   "cell_type": "code",
   "execution_count": null,
   "id": "86a71ccd",
   "metadata": {},
   "outputs": [],
   "source": [
    "import matplotlib.pyplot as plt\n",
    "import numpy as np\n",
    "import math\n",
    "import axispi as axp\n",
    "\n",
    "#conversion factor\n",
    "con1 = 2.56819e-3 #MeV−2,  (DCS MeV-2)/con1 = DCS barns\n",
    "#----------constants-------------\n",
    "e = 1.6e-19\n",
    "#Electron and Muon mass squared\n",
    "mu2 = 105.658**2 #Mev^2\n",
    "me2 = 0.5110**2 #Mev^2\n",
    "S = 4*mu2 + 5000 #5000MeV^2 over threshold energy\n",
    "#---------------------------------\n",
    "\n",
    "def ab(s):\n",
    "    #more constants to simplify calculation\n",
    "    ce = 1-(4*me2/s)\n",
    "    cu = 1-(4*mu2/s)\n",
    "    c1 = e**4/(64 * math.pi**2 * s)\n",
    "    c2 = c1 * cu**(1/2) * ce**(-1/2)\n",
    "\n",
    "    a = c2 * (1+(4/s)*(me2+mu2))\n",
    "    b = c2 * (1-(4*mu2/s)) * (1-(4*me2/s))\n",
    "    return a, b\n",
    "\n",
    "#differential cross section\n",
    "def dcs(theta,s):#theta - ejection angle #s - CoM energy squared\n",
    "    a,b = ab(s)\n",
    "    return a+b*math.cos(theta)**2\n",
    "\n",
    "#total cross section\n",
    "def sigma(s):#s - CoM energy squared\n",
    "    a,b = ab(s)\n",
    "    return (4*math.pi/3)*(3*a + b)\n"
   ]
  }
 ],
 "metadata": {
  "kernelspec": {
   "display_name": "Python 3",
   "language": "python",
   "name": "python3"
  },
  "language_info": {
   "codemirror_mode": {
    "name": "ipython",
    "version": 3
   },
   "file_extension": ".py",
   "mimetype": "text/x-python",
   "name": "python",
   "nbconvert_exporter": "python",
   "pygments_lexer": "ipython3",
   "version": "3.8.8"
  }
 },
 "nbformat": 4,
 "nbformat_minor": 5
}
