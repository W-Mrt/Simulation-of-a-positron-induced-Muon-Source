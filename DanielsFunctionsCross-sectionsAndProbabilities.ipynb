{
 "cells": [
  {
   "cell_type": "code",
   "execution_count": 11,
   "id": "6855294f",
   "metadata": {},
   "outputs": [
    {
     "data": {
      "text/plain": [
       "(array([ 22.,  78., 109., 128., 151., 145., 132., 116.,  87.,  32.]),\n",
       " array([0.00983859, 0.31544932, 0.62106004, 0.92667076, 1.23228148,\n",
       "        1.5378922 , 1.84350293, 2.14911365, 2.45472437, 2.76033509,\n",
       "        3.06594581]),\n",
       " <BarContainer object of 10 artists>)"
      ]
     },
     "execution_count": 11,
     "metadata": {},
     "output_type": "execute_result"
    },
    {
     "data": {
      "image/png": "[encoded data removed]",
      "text/plain": [
       "<Figure size 432x288 with 1 Axes>"
      ]
     },
     "metadata": {
      "needs_background": "light"
     },
     "output_type": "display_data"
    }
   ],
   "source": [
    "#The functions use eachother and the constants. It is advisable to paste the whole cell into your code, or save it as .py and import it in. \n",
    "\n",
    "import matplotlib.pyplot as plt\n",
    "import numpy as np\n",
    "import math\n",
    "from scipy.interpolate import interp1d\n",
    "import numpy.random as npr\n",
    "import axispi as axp\n",
    "\n",
    "#conversion factor\n",
    "con1 = 2.56819e-3 #MeV−2,  (DCS MeV-2)/con1 = DCS barns\n",
    "#----------constants-------------\n",
    "e = 1.6e-19\n",
    "#Electron and Muon mass squared\n",
    "mu2 = 105.658**2 #Mev^2\n",
    "me2 = 0.5110**2 #Mev^2\n",
    "S = 4*mu2 + 5000 #5000MeV^2 over threshold energy\n",
    "#---------------------------------\n",
    "\n",
    "def ab(s):\n",
    "    #more constants to simplify calculation\n",
    "    ce = 1-(4*me2/s)\n",
    "    cu = 1-(4*mu2/s)\n",
    "    c1 = e**4/(64 * math.pi**2 * s)\n",
    "    c2 = c1 * cu**(1/2) * ce**(-1/2)\n",
    "\n",
    "    a = c2 * (1+(4/s)*(me2+mu2))\n",
    "    b = c2 * (1-(4*mu2/s)) * (1-(4*me2/s))\n",
    "    return a, b\n",
    "\n",
    "#differential cross section\n",
    "def dcs(theta,s):#theta - ejection angle #s - CoM energy squared\n",
    "    a,b = ab(s)\n",
    "    return a+b*math.cos(theta)**2\n",
    "\n",
    "#total cross section\n",
    "def sigma(s):#s - CoM energy squared\n",
    "    a,b = ab(s)\n",
    "    return (4*math.pi/3)*(3*a + b)\n",
    "\n",
    "#probability density function, PDF of ejection angles\n",
    "def pdf(theta,s):#theta - ejection angle #s - CoM energy squared\n",
    "    a,b = ab(s)\n",
    "    sig = sigma(s)\n",
    "    DCS = dcs(theta,s)\n",
    "    return (2*math.pi*math.sin(theta)/sig)*DCS\n",
    "\n",
    "#Cumulitive Density Function. Probability a THETA sampled is less than theta in the function.\n",
    "def cdf(theta,s):\n",
    "    a,b = ab(s)\n",
    "    sig = sigma(s)\n",
    "    return (2*math.pi/sig)*((-math.cos(theta)*(3*a+b*math.cos(theta)**2)*1/3)+ a)\n",
    "\n",
    "#Theta Generation, Sampling from the PDF, Using Inverse CDF Method\n",
    "def thetaGen2(howMany):#howMany - the number of thetas to generate\n",
    "    #generate the lookup table for the inverse function\n",
    "    theta = np.linspace(0,math.pi,100)\n",
    "    CDF = [cdf(x,S) for x in theta]\n",
    "    PDF = [pdf(x,S) for x in theta]\n",
    "    #thetaPredictor is the inverse CDF brought about using a look up table (theta,CDF) and interpolation\n",
    "    thetaPredictor = interp1d(CDF, theta, kind = \"linear\")\n",
    "    return [float(thetaPredictor(x)) for x in npr.uniform(min(CDF),max(CDF),howMany)]\n",
    "\n"
   ]
  },
  {
   "cell_type": "code",
   "execution_count": null,
   "id": "63c23d9b",
   "metadata": {},
   "outputs": [],
   "source": []
  }
 ],
 "metadata": {
  "kernelspec": {
   "display_name": "Python 3",
   "language": "python",
   "name": "python3"
  },
  "language_info": {
   "codemirror_mode": {
    "name": "ipython",
    "version": 3
   },
   "file_extension": ".py",
   "mimetype": "text/x-python",
   "name": "python",
   "nbconvert_exporter": "python",
   "pygments_lexer": "ipython3",
   "version": "3.8.8"
  }
 },
 "nbformat": 4,
 "nbformat_minor": 5
}
