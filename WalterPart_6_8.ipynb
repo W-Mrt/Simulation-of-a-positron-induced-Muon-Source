{
 "cells": [
  {
   "cell_type": "markdown",
   "metadata": {},
   "source": [
    "# Simulation of a positron-induced Muon Source (part 1)\n",
    "\n",
    "### Description\n",
    "\n",
    "The production of a high brillance muon beam is one of the most important challenge for the future of Particle Physics. A particularly interesting idea consists of shooting high energy positrons on a target, aiming at the production of muons by means of the process $e^+ + e^- \\rightarrow \\mu^+ + \\mu^-$. To mimize the divergence of the resulting \"muon beam\", the positrons energy is chosen so that the reaction occurs close to threshold (assuming the electrons in the target to be at rest). The main goal of this project is to produce a Monte Carlo simulation of such a process. \n",
    "\n",
    "### Assignments\n",
    "\n",
    "The project is split into two parts, which are both reported here for consistency. This group has only to cover _part 1_.\n",
    "\n",
    "#### Part 1: generate a simulated dataset of $e^+ + e^- \\rightarrow \\mu^+ + \\mu^-$ events.\n",
    "\n",
    "1. Compute the process leading-order cross section, $\\sigma(\\theta; \\sqrt{s})$, as a function of the scattering angle $\\theta$ and with the  center of mass energy $\\sqrt{s}$ as a parameter. Start by computing it in the center of mass system. N.B.: textbooks reports such cross section in the relativistic limit, i.e. for $\\sqrt{s}\\gg m_\\mu$, which is clearly not the case here ($\\sqrt{s}\\sim 2m_\\mu$);\n",
    "2. compute and display the angle and momentum components distributions of the emerging muon pairs;\n",
    "3. boost muons four-momenta in the laboratory frame, i.e. in the frame where the electron is at rest and the positron has enough energy to give rise to the process;\n",
    "4. write a Monte Carlo simulation that generates scattering events following the distrubtions that you found analytically; \n",
    "5. produce a synthetic dataset of about $N=10^5$ (or more) events. Events should be listed as rows in a file with columns representing the muons coordinates (keep in mind that in the lab frame muons are relativistic and thus the number of coordinates can be only 3 per muon);\n",
    "6. assume a $3$ cm thick Beryllium block is used as target and a rate of positron on target of $10^6$ Hz. Compute the rescaling factor (weight) you need to apply to the $N$ simulated events such that they represent the statistics that would be gathered in a week of countinuous operations;\n",
    "7. repeat what done so far simulating now the actual transverse shape and energy spread of the beam: for the former assume a flat distribution in a circle of radius $r=1$ cm and for the latter a gaussian distribution centered at the nominal beam energy and a width of $0.5$ GeV;\n",
    "8. given that the electrons traversing the target lose energy as $E(z)=E_0 \\exp{-z/X_0}$ (with z the longitudinal coordinate of the target, the one parallel to the beam direction and $X_0$ is the Beryllium radiation length), compute the nominal beam energy $E_0$ such that muon pairs can be generated along the whole length of the target;\n",
    "9. (optional) take the former point into account when generating the events (i.e. the proccess $\\sqrt{s}$ depend on the position along the target where the $e^+ - e^-$ scattering occurrs.\n",
    "\n",
    "\n",
    "#### Part 2: use the synthetic dataset to design an experiment\n",
    "\n",
    "Assume a $2$ meter long, $1.7$ Tesla dipole magnet is placed after the target. Assume a number of tracking detectors can be placed before the target, after the target before the magnet (one line) and after the magnet (two lines, one for positive the other for negative muons); those could be made of silicon pixels, with a single-hit resolution varying from 50 to 200 ${\\rm \\mu m}$.  \n",
    "Try to address the following items keeping in mind that money matters (i.e. you cannot buy an infinite number of detectors and the smaller the single-hit resolution the higher the cost) and that the layout of the experiment has to be as compact as possible (say whithin 20 m).\n",
    "\n",
    "1. Define the sizes of the various detectors, such that all the particles traverse them (i.e. $100\\%$ detector acceptance); \n",
    "2. have each event of the synthetich dataset \"interacting\" with the detectors, i.e. generate a dataset with the hits (properly smeared due to detector resolutions) left by particles crosssing each detector. That should correspond to the actual measurments gathered by the experiment;\n",
    "3. add some random noise to such measurements (e.g. for each detector accordingly to poisson statistic of mean about 1);\n",
    "4. develop an algorithm to track the particles, both the incoming positrons and the outgoing muons.\n",
    "5. keep in consideration the fact that the two muons emerge synchronously from the target: how small the pitch (the distance between individual pixels) have to be of the detectors prior to the magnet? If that is too small, adjust the tracking algorithm accordingly (i.e. the reconstruct muon tracks could share hits in those detectors) \n",
    "6. compute the resolution of the muon momenta and of the $\\sqrt(s)$;\n",
    "7. (optional, a though one..) correct the muon trajectories for the transverse position of the hard scattering on the target section. Actually the incoming positrons are both dispersed in space (the flat distribution with  $r=1$ cm) and divergent; one would need to correct for that too.\n",
    "\n",
    "### References\n",
    "\n",
    "* [LEMMA](https://arxiv.org/pdf/1509.04454.pdf) paper. The original paper describing the positron-induced low emittance muon source, ehere all the relevant kinematic features of the process have been studied\n",
    "* [Babayaga](https://www2.pv.infn.it/~hepcomplex/babayaga.html) event generator. You may want to install and run it as a comparison for your results.\n",
    "* [2018 Experiment](https://arxiv.org/pdf/1909.13716.pdf): the paper describing the (very poor..) results of the experiment carried out in summer 2018\n",
    "* [2021 proposal](https://cds.cern.ch/record/2712394?ln=en): the proposal for the experiment in 2021\n",
    "\n",
    "\n",
    "### Contact\n",
    "\n",
    "* Marco Zanetti <marco.zanetti@unipd.it>\n",
    "* Camilla Curatolo <camilla.curatolo@pd.infn.it>\n",
    "* Nicola Amapane <nicola.amapane@unito.it>\n"
   ]
  },
  {
   "cell_type": "markdown",
   "metadata": {},
   "source": [
    "Given $N$ generated events, we can calculate the correct statistics for an experiment lasting one week just by applying to the simulated events a rescaling factor ($C$).\n",
    "\n",
    "The number of $(\\mu^+ \\mu^-)$ pairs produced per positron bunch on target is:\n",
    "\n",
    "$$n(\\mu^+ \\mu^-)=n^+ \\rho_{e^-} l_{Be}\\, \\sigma(\\mu^+ \\mu^-).$$\n",
    "\n",
    "where $n^+$  is the number of positrons in the bunch,\n",
    "\n",
    "$\\rho_{e^-}$ is the electron density in the medium, \n",
    "\n",
    "$l_{Be}$ is the thickness of the target,\n",
    "\n",
    "$\\sigma(\\mu^+ \\mu^-)$ is the muon pairs production cross-section, as we have shown before it depends on the scattering angle $\\theta$ and with center of mass energy $\\sqrt s$ as a parameter.\n",
    "\n",
    "The electron density in the medium can be computed as:\n",
    "\n",
    "$$ \\rho_{e^-} = N_A \\frac{\\rho_{\\mathrm{Be}}}{M} Z $$\n",
    "\n",
    "with $N_A$ being Avogadro constant,\n",
    "\n",
    "$\\rho_{\\mathrm{Be}}$ is the target density (Beryllium), \n",
    "\n",
    "$Z$ is its atomic number,\n",
    "\n",
    "$M$ is its molar mass.\n",
    "\n",
    "We can rewrite the first formula as a function of the rate of positrons on the target $\\lambda_{e^+}$, thus we get:\n",
    "\n",
    "$$f(\\mu^+ \\mu^-)=\\lambda_{e^+} \\rho_{e^-} l_{Be}\\, \\sigma(\\mu^+ \\mu^-).$$\n",
    "\n",
    "Then the rescaling factor is given by:\n",
    "\n",
    "$$C=\\frac{f(\\mu^+ \\mu^-) \\Delta T}{N}.$$\n",
    "\n",
    "References\n",
    "\n",
    "Production of the Smallest QED Atom: True Muonium $(\\mu^+ \\mu^-)$ https://arxiv.org/abs/0904.2225\n",
    "\n",
    "Muon production and accumulation from positrons on target https://journals.aps.org/prab/pdf/10.1103/PhysRevAccelBeams.23.051001 "
   ]
  },
  {
   "cell_type": "code",
   "execution_count": 2,
   "metadata": {},
   "outputs": [],
   "source": [
    "%matplotlib inline\n",
    "import numpy as np\n",
    "import pandas as pd\n",
    "import math \n",
    "import matplotlib.pyplot as plt"
   ]
  },
  {
   "cell_type": "code",
   "execution_count": 6,
   "metadata": {},
   "outputs": [],
   "source": [
    "#The functions use eachother and the constants. It is advisable to paste the whole cell into your code, or save it as .py and import it in. \n",
    "\n",
    "import matplotlib.pyplot as plt\n",
    "import numpy as np\n",
    "from scipy.interpolate import interp1d\n",
    "import numpy.random as npr\n",
    "import axispi as axp\n",
    "\n",
    "#conversion factor\n",
    "con1 = 2.56819e-3 #MeV−2,  (DCS MeV-2)/con1 = DCS barns\n",
    "#----------constants-------------\n",
    "#Electron and Muon mass squared\n",
    "mu2 = 105.658**2 #Mev^2\n",
    "me2 = 0.5110**2 #Mev^2\n",
    "S = 4*mu2 + 5000 #5000MeV^2 over threshold energy\n",
    "alpha = 0.007297352 #no unit of measurement\n",
    "\n",
    "def ab(s):\n",
    "    #more constants to simplify calculation\n",
    "    ce = 1-(4*me2/s)\n",
    "    cu = 1-(4*mu2/s)\n",
    "    c1 = alpha**2/(4*s)#e**4/(64 * np.pi**2 * s)\n",
    "    c2 = c1 * cu**(1/2) * ce**(-1/2)\n",
    "\n",
    "    a = c2 * (1+(4/s)*(me2+mu2))\n",
    "    b = c2 * (1-(4*mu2/s)) * (1-(4*me2/s))\n",
    "    return a, b\n",
    "\n",
    "\n",
    "#differential cross section\n",
    "def dcs(theta,s):#theta - ejection angle #s - CoM energy squared\n",
    "    a,b = ab(s)\n",
    "    return a+b*np.cos(theta)**2\n",
    "\n",
    "#total cross section\n",
    "def tcs(s):#s - CoM energy squared\n",
    "    a,b = ab(s)\n",
    "    return (4*np.pi/3)*(3*a + b)#in 1/MeV^2\n",
    "\n",
    "#############################################################################\n",
    "\n",
    "#probability density function, PDF of ejection angles\n",
    "def pdf(theta,s):#theta - ejection angle #s - CoM energy squared\n",
    "    sig = tcs(s) # daniels\n",
    "    #sig = sigma(s) # mariams\n",
    "    DCS = dcs(theta,s) # daniels\n",
    "    #DCS = d_sigma(s,theta) # mariams\n",
    "    return (2*np.pi*np.sin(theta)/sig)*DCS\n",
    "\n",
    "#Cumulitive Density Function. Probability a THETA sampled is less than theta in the function.\n",
    "def cdf(theta,s):\n",
    "    a,b = ab(s)\n",
    "    sig = tcs(s) # daniels\n",
    "    #sig = sigma(s) # mariams\n",
    "    return (2*np.pi/sig)*((-np.cos(theta)*(3*a+b*np.cos(theta)**2)*1/3)+ a)\n",
    "\n",
    "#Theta Generation, Sampling from the PDF, Using Inverse CDF Method\n",
    "def thetaGen2(howMany,s):#howMany - the number of thetas to generate #s - CoM energy squared\n",
    "    #generate the lookup table for the inverse function\n",
    "    theta = np.linspace(0,np.pi,100)\n",
    "    CDF = [cdf(x,s) for x in theta]\n",
    "    PDF = [pdf(x,s) for x in theta]\n",
    "    #thetaPredictor is the inverse CDF brought about using a look up table (theta,CDF) and interpolation\n",
    "    thetaPredictor = interp1d(CDF, theta, kind = \"linear\")\n",
    "    return [float(thetaPredictor(x)) for x in npr.uniform(min(CDF),max(CDF),howMany)]\n"
   ]
  },
  {
   "cell_type": "markdown",
   "metadata": {},
   "source": [
    "The center of mass energy $\\sqrt{s}$ can be found using the beam energy in the lab frame and the mass of beam and target particles, which are both $m_e$ in this case.\n",
    "\n",
    "$$s = 2m_e^2+2m_e~E_{LAB}$$ \n",
    "\n",
    "The $E_{LAB}$ used is the minimum beam energy energy calculated in section 8 when considering the thickness of the target.\n",
    "\n",
    "$$E_{LAB} = 743714~MeV$$\n",
    "\n",
    "Equation taken from https://web.physics.utah.edu/~jui/5110/hw/kin_rel.pdf"
   ]
  },
  {
   "cell_type": "code",
   "execution_count": 10,
   "metadata": {},
   "outputs": [
    {
     "name": "stdout",
     "output_type": "stream",
     "text": [
      "Muon pairs produced in a week: 2.629518127768564e+26\n"
     ]
    },
    {
     "data": {
      "text/plain": [
       "(array([ 35091.,  92602., 122879., 126929., 122695., 122462., 127465.,\n",
       "        122108.,  92609.,  35160.]),\n",
       " array([1.61592809e-04, 3.14302240e-01, 6.28442887e-01, 9.42583534e-01,\n",
       "        1.25672418e+00, 1.57086483e+00, 1.88500548e+00, 2.19914612e+00,\n",
       "        2.51328677e+00, 2.82742742e+00, 3.14156806e+00]),\n",
       " <BarContainer object of 10 artists>)"
      ]
     },
     "execution_count": 10,
     "metadata": {},
     "output_type": "execute_result"
    },
    {
     "data": {
      "image/png": "[encoded data removed]",
      "text/plain": [
       "<Figure size 432x288 with 1 Axes>"
      ]
     },
     "metadata": {
      "needs_background": "light"
     },
     "output_type": "display_data"
    }
   ],
   "source": [
    "lBe = 3                  #Beryllium target thickness [cm]\n",
    "lmbd = 10**6             #rate of positron on target [Hz]\n",
    "time = 60*60*24*7        #seconds in a week\n",
    "Na = 6.0221409e+23       #Avogadro constant [mol^-1]\n",
    "dBe = 1.85               #Beryllium density [g/cm^3]\n",
    "ZBe = 4                  #Beryllium atomic number\n",
    "MBe = 9.0121820          #Berylium molar mass [g/mol]\n",
    "muon_m = 105.6583755     #Muon mass [MeV/c^2]\n",
    "elec_m = 0.510998\n",
    "sq_root_s = 2*muon_m     #center of mass energy [MeV/c^2]\n",
    "E_lab = 743714\n",
    "s = 2*elec_m**2+2*elec_m*E_lab #calculated from beam energy required to penetrate 3cm\n",
    "\n",
    "\n",
    "d_el = Na * dBe * ZBe / MBe     #Beryllium electron density [number of electron/cm^-3]\n",
    "#1barn=1e-24 cm^2\n",
    "sigma = tcs(2*elec_m**2+2*elec_m*E_lab) #muons pair production cross section [1/MeV^2]\n",
    "f_mu = lmbd * d_el * lBe * sigma  #rate of produced muon pairs [Hz]\n",
    "C = f_mu * time                 #scaling factor\n",
    "\n",
    "print(\"Muon pairs produced in a week:\", C)\n",
    "\n",
    "# apply the scale factor to the N events in order to\n",
    "# represent the statistics that would be gathered in a\n",
    "# week of continuous operations\n",
    "\n",
    "#maybe put in a smaller number for testing\n",
    "muonThetas = thetaGen2(int(10e5),s)#input number of muons angles you want to generate and the CoM^2\n",
    "figThetaDist = plt.figure()\n",
    "plt.hist(muonThetas)\n",
    "\n"
   ]
  },
  {
   "cell_type": "markdown",
   "metadata": {},
   "source": [
    "We have already chosen the positron energy so that the reaction occurs close to the threshold (assuming the electrons in the Beryllium target at rest) which means the center of mass energy $\\sqrt {s}$ should be\n",
    "$$\\sqrt {s} \\sim 2m_\\mu ,$$ \n",
    "in order to have the muon pairs production along the entire length of the target.\n",
    "We chose so at the beginning to minimize the divergence of the resulting \"muon beam\".\n",
    "\n",
    "Addition of four momenta in case of particles with relativistic momenta:\n",
    "$$p_{e^+}=\\begin{pmatrix} E_{e_+} \\\\ p_{x} \\\\ 0 \\\\ 0 \\end{pmatrix}, \\ \\ \\ \\  p_{e^-}=\\begin{pmatrix} E_{e_-} \\\\ 0 \\\\ 0 \\\\ 0 \\end{pmatrix}$$\n",
    "\n",
    "It is possible to compute the Mandelstam variable $s$ with the target electron at rest (no momentum) in the laboratory frame:\n",
    "$$ s=(p_{e^+} + p_{e^-})^2 =$$ $$E_{e_+}^2 + E_{e_-}^2+2E_{e_+}E_{e_-}-\\vec p_{e_+}^2 =$$ $$ E_{e_+}^2 + m_{e}^2+2E_{e_+}m_{e}-\\vec p_{e_+}^2,$$ \n",
    "remembering that $E^2=p^2+m^2$, then the previous is equal to:\n",
    "$$\\vec p_{e_+}^2+m_{e}^2+m_{e}^2+2E_{e_+}m_{e}-\\vec p_{e_+}^2 = 2E_{e_+}m_{e}+2m_{e}$$\n",
    "With respect to the initial condition:\n",
    "$$2E_{e_+}m_{e}+2m_{e}>4m_\\mu^2.$$\n",
    "So the positron energy has to be:\n",
    "$$E_{e_+}>\\frac{4m_{\\mu}^2-2m_{e}^2}{2m_{e}}.$$\n",
    "Now we can compute the energy lost traversing the target, if we assume $z$ is the longitudianl coordinate parallel to the beam direction, with $X_{0}$ as the Beryllium radiation length ($=35.28cm$):\n",
    "$$E(z)=E_{0}e^{-\\frac{z}{X_{0}}}.$$\n",
    "\n",
    "If the target length considered is $l=100 cm$ then the nominal beam energy $E_0$ has to be:\n",
    "$$E_0>E_{e_+}e^{\\frac{l}{X_{0}}}.$$\n",
    "\n",
    "\n",
    "References\n",
    "Beryllium radiation length https://pdg.lbl.gov/2021/AtomicNuclearProperties/HTML/beryllium_Be.html"
   ]
  },
  {
   "cell_type": "code",
   "execution_count": 3,
   "metadata": {},
   "outputs": [
    {
     "name": "stdout",
     "output_type": "stream",
     "text": [
      "Threshold energy condition(MeV): 43693.09077185208\n",
      "Nominal beam energy required for the treshold reaction to happen(MeV): 743714.4101945318\n"
     ]
    },
    {
     "data": {
      "image/png": "[encoded data removed]",
      "text/plain": [
       "<Figure size 432x288 with 1 Axes>"
      ]
     },
     "metadata": {
      "needs_background": "light"
     },
     "output_type": "display_data"
    }
   ],
   "source": [
    "muon_m = 105.6583755 #muon mass [MeV/c^2]\n",
    "el_m = 0.51099895    #electron/positron mass [MeV/c^2]\n",
    "rad_length = 35.28   #radiation length of Beryllium [cm]\n",
    "l = 100                #Beryllium target thickness [cm]\n",
    "\n",
    "E_p = ((4*muon_m**2 - 2*el_m**2)/(2*el_m))\n",
    "print(\"Threshold energy condition(MeV):\",E_p)\n",
    "E_0 = E_p*np.exp(l/rad_length) #minimum\n",
    "print(\"Nominal beam energy required for the treshold reaction to happen(MeV):\",E_0)\n",
    "\n",
    "\n",
    "\n",
    "def E_z(x,E0):\n",
    "    return E0*np.exp(-x/rad_length)\n",
    "  \n",
    "x = np.linspace(0, 3, 100)\n",
    "\n",
    "E_z1 = [E_z(xi,E_0) for xi in x]\n",
    "E_z2 = [E_z(xi,E_0+500000) for xi in x]\n",
    "E_z3 = [E_z(xi,E_0+1000000) for xi in x]\n",
    "fig = plt.figure()\n",
    "plt.plot(x,E_z1,label=\"E_0\")\n",
    "plt.plot(x,E_z2,label=\"E_0+5e5\")\n",
    "plt.plot(x,E_z3,label=\"E_0+1e6\")\n",
    "plt.title(\"Energy lost for different energy beam\")\n",
    "plt.xlabel(\"Target thickness longitudianl coordinate\")\n",
    "plt.ylabel(\"Positron energy\")\n",
    "plt.legend()\n",
    "\n",
    "plt.show()"
   ]
  },
  {
   "cell_type": "code",
   "execution_count": null,
   "metadata": {},
   "outputs": [],
   "source": []
  }
 ],
 "metadata": {
  "kernelspec": {
   "display_name": "Python 3",
   "language": "python",
   "name": "python3"
  },
  "language_info": {
   "codemirror_mode": {
    "name": "ipython",
    "version": 3
   },
   "file_extension": ".py",
   "mimetype": "text/x-python",
   "name": "python",
   "nbconvert_exporter": "python",
   "pygments_lexer": "ipython3",
   "version": "3.8.8"
  }
 },
 "nbformat": 4,
 "nbformat_minor": 2
}
